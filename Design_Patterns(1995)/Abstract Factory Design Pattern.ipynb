{
 "cells": [
  {
   "cell_type": "code",
   "execution_count": 1,
   "metadata": {},
   "outputs": [],
   "source": [
    "import logging\n",
    "# logging.debug('This is a debug message')\n",
    "# logging.info('This is an info message')\n",
    "# logging.warning('This is a warning message')\n",
    "# logging.error('This is an error message')\n",
    "# logging.critical('This is a critical message')\n",
    "from abc import ABC, abstractmethod "
   ]
  },
  {
   "cell_type": "markdown",
   "metadata": {},
   "source": [
    "#### The classes Room, Door, and Wall define the components of the maze.\n",
    "##### Each room has four sides.\n",
    "\n",
    "### We'll investigate two ways to create a maze; one conventional, one using an AbstractFactory Design Pattern. In both ways the created maze will have only two rooms. But creating the maze in the first way will make it very cumbersome to change the components within the two-roomed maze. In contrast, using the AbstractFactory Design Pattern we can easily create different two-roomed mazes."
   ]
  },
  {
   "cell_type": "code",
   "execution_count": 2,
   "metadata": {},
   "outputs": [],
   "source": [
    "# This abstract class ensures that all Mapsites (doors, rooms, walls)\n",
    "## at least have a 'enter' method. \n",
    "## he semantics of the method depends on the concrete subclasses.\n",
    "class MapSiteAbstract(ABC):\n",
    "    @abstractmethod\n",
    "    def enter(self):\n",
    "        pass"
   ]
  },
  {
   "cell_type": "code",
   "execution_count": 3,
   "metadata": {},
   "outputs": [],
   "source": [
    "# A concrete subclass of MapSite that defines the key relationshups between \n",
    "## the different components in a maze (the maze class represents a collection of rooms).\n",
    "class Room(MapSiteAbstract):\n",
    "    def __init__(self, roomNumber):\n",
    "        self.roomNumber = roomNumber\n",
    "        self.north = None\n",
    "        self.east = None\n",
    "        self.south = None\n",
    "        self.west = None\n",
    "        \n",
    "    def enter(self):\n",
    "        print('Entered room %s', self.roomNumber)\n",
    "        \n",
    "    def setSide(self, direction, MapSite):\n",
    "        self.direction = MapSite\n",
    "\n",
    "    def getSide(self, direction):\n",
    "        pass\n",
    "        return MapSite\n",
    "    def getNumber(self):\n",
    "        return self.roomNumber\n",
    "    \n",
    "class Wall(MapSiteAbstract):\n",
    "    \n",
    "    def enter(self):\n",
    "        pass\n",
    "\n",
    "class Door(MapSiteAbstract):\n",
    "    def __init__(self, roomLeft, roomRight, isOpen=False):\n",
    "        self.roomLeft = roomLeft\n",
    "        self.roomRight = roomRight\n",
    "        self.isOpen = isOpen\n",
    "        \n",
    "    # Note how this keeps information local, thereby decoupling the code.\n",
    "    def getOtherSideFrom(self, Room):\n",
    "        if Room == self.roomLeft:\n",
    "            return self.roomRight\n",
    "        elif Room == self.roomRight:\n",
    "            return self.roomLeft\n",
    "        else:\n",
    "            return None\n",
    "        \n",
    "    def enter(self):\n",
    "        pass\n",
    "    \n",
    "# The maze class represents a collection of rooms.    \n",
    "class Maze():\n",
    "    def __init__(self):\n",
    "        self.roomsDict = {}\n",
    "    \n",
    "    def addRoom(self, Room):\n",
    "        self.roomsDict[Room.getNumber()] = Room\n",
    "        \n",
    "    def getRoom(self, roomNumber):\n",
    "        return self.roomsDict[roomNumber]\n",
    "    \n",
    "    def getAllRooms(self):\n",
    "        return self.roomsDict.values()"
   ]
  },
  {
   "cell_type": "markdown",
   "metadata": {},
   "source": [
    "# Conventional Implementation (No Design Pattern)."
   ]
  },
  {
   "cell_type": "markdown",
   "metadata": {},
   "source": [
    "#### This implementation of createTwoRoomedMaze hard-codes the class names, making it difficult to create mazes with different components. The method hard-codes the maze layout. Changing the layout would mean changing the method, either by overriding it (which means reimplementing the whole thing) or by changing parts of it (which is error-prone and doesn't promotoe reuse). In short, the method is inflexible."
   ]
  },
  {
   "cell_type": "code",
   "execution_count": 4,
   "metadata": {},
   "outputs": [],
   "source": [
    "# Allows us to create a maze.\n",
    "class MazeGame():\n",
    "\n",
    "    def createTwoRoomedMaze(self):\n",
    "        Maze1 = Maze()\n",
    "        Room1 = Room(1)\n",
    "        Room2 = Room(2)\n",
    "        Door12 = Door(1,2)\n",
    "\n",
    "        Maze1.addRoom(Room1)\n",
    "        Maze1.addRoom(Room2)\n",
    "\n",
    "        Room1.setSide('north', Wall())\n",
    "        Room1.setSide('east', Door12)\n",
    "        Room1.setSide('south', Wall())\n",
    "        Room1.setSide('west', Door12)\n",
    "        \n",
    "        Room2.setSide('north', Wall())\n",
    "        Room2.setSide('east', Wall())\n",
    "        Room2.setSide('south', Wall())\n",
    "        Room2.setSide('west', Door12)\n",
    "        \n",
    "        return Maze1"
   ]
  },
  {
   "cell_type": "code",
   "execution_count": 5,
   "metadata": {},
   "outputs": [],
   "source": [
    "MazeGame1 = MazeGame()"
   ]
  },
  {
   "cell_type": "code",
   "execution_count": 6,
   "metadata": {},
   "outputs": [
    {
     "data": {
      "text/plain": [
       "dict_values([<__main__.Room object at 0x108ecbad0>, <__main__.Room object at 0x108ecbc10>])"
      ]
     },
     "execution_count": 6,
     "metadata": {},
     "output_type": "execute_result"
    }
   ],
   "source": [
    "Maze1 = MazeGame1.createTwoRoomedMaze()\n",
    "Maze1.getAllRooms()"
   ]
  },
  {
   "cell_type": "markdown",
   "metadata": {},
   "source": [
    "# Abstract Factory Design Pattern"
   ]
  },
  {
   "cell_type": "markdown",
   "metadata": {},
   "source": [
    "## Class that takes a factory as parameter"
   ]
  },
  {
   "cell_type": "code",
   "execution_count": 7,
   "metadata": {},
   "outputs": [],
   "source": [
    "class MazeGameDesignPattern():\n",
    "    def createTwoRoomedMaze(self, MazeFactory):\n",
    "        Maze1 = MazeFactory.makeMaze()\n",
    "        Room1 = MazeFactory.makeRoom(1)\n",
    "        Room2 = MazeFactory.makeRoom(2)\n",
    "        Door12 = MazeFactory.makeDoor(1,2)\n",
    "\n",
    "        Maze1.addRoom(Room1)\n",
    "        Maze1.addRoom(Room2)\n",
    "\n",
    "        Room1.setSide('north', MazeFactory.makeWall())\n",
    "        Room1.setSide('east', Door12)\n",
    "        Room1.setSide('south', MazeFactory.makeWall())\n",
    "        Room1.setSide('west', MazeFactory.makeWall())\n",
    "        \n",
    "        Room2.setSide('north', MazeFactory.makeWall())\n",
    "        Room2.setSide('east', MazeFactory.makeWall())\n",
    "        Room2.setSide('south', MazeFactory.makeWall())\n",
    "        Room2.setSide('west', Door12)\n",
    "        \n",
    "        return Maze1"
   ]
  },
  {
   "cell_type": "code",
   "execution_count": 8,
   "metadata": {},
   "outputs": [],
   "source": [
    "GameWithDesignPattern = MazeGameDesignPattern()"
   ]
  },
  {
   "cell_type": "markdown",
   "metadata": {},
   "source": [
    "## Abstract Factory (and Concrete Factory)"
   ]
  },
  {
   "cell_type": "markdown",
   "metadata": {},
   "source": [
    "#### Notice that the MazeFacrory is just a collection of factory methods. This is the most common way to implement the Abstract Factory Pattern. \n",
    "#### Also note that MazeFactory is not an abstract class; it acts as both the AbstractFactory and the ConcreteFactory.\n",
    "#### Because the MazeFactory is a concrete class consistiing entirely of factory methods, it's easy to make a new MazeFactory by making a subclass and overriding the operations that need to change."
   ]
  },
  {
   "cell_type": "code",
   "execution_count": 9,
   "metadata": {},
   "outputs": [],
   "source": [
    "class MazeFactory():\n",
    "    def makeMaze(self):\n",
    "        return Maze()\n",
    "    \n",
    "    def makeWall(self):\n",
    "        return Wall()\n",
    "    \n",
    "    def makeRoom(self, roomNumber):\n",
    "        return Room(roomNumber)\n",
    "    \n",
    "    def makeDoor(self, Room1, Room2):\n",
    "        return Door(Room1, Room2)"
   ]
  },
  {
   "cell_type": "markdown",
   "metadata": {},
   "source": [
    "## Concrete Factories"
   ]
  },
  {
   "cell_type": "code",
   "execution_count": 10,
   "metadata": {},
   "outputs": [],
   "source": [
    "# Note how this subclass automatically inherits all functionalities from its superclass.\n",
    "# We only (re)define the methods we want to override.\n",
    "class EnchantedMazeFactory(MazeFactory):\n",
    "    \n",
    "    def makeRoom(self, roomNumber):\n",
    "        return RoomEnchanted(roomNumber, self.castSpell())\n",
    "    \n",
    "    def makeDoor(self, Room1, Room2):\n",
    "        return DoorNeedingSpell(Room1, Room2)\n",
    "    \n",
    "    def castSpell(self):\n",
    "        pass\n",
    "        return Spell\n",
    "    "
   ]
  },
  {
   "cell_type": "code",
   "execution_count": 11,
   "metadata": {},
   "outputs": [],
   "source": [
    "EnchantedMazeFactory = EnchantedMazeFactory()"
   ]
  },
  {
   "cell_type": "code",
   "execution_count": 12,
   "metadata": {},
   "outputs": [],
   "source": [
    "class RoomWithABomb(Room):\n",
    "    def __init__(self,roomNumber):\n",
    "        self.roomNumber = roomNumber\n",
    "        self.hasBomb = False\n",
    "    \n",
    "    def setBomb(self):\n",
    "        self.hasBomb = True\n",
    "    \n",
    "    def getBombInfo(self):\n",
    "        return self.hasBomb\n",
    "    \n",
    "    \n",
    "class WallBombed(Wall):\n",
    "    def __init__(self):\n",
    "        self.hasDamage = False\n",
    "        \n",
    "    def setDamage(self):\n",
    "        self.hasDamage = True\n",
    "    \n",
    "    def getDamageInfo(self):\n",
    "        return self.hasDamage\n",
    "    \n",
    "class MazeBombedFactory(MazeFactory):\n",
    "    \n",
    "    def makeWall(self):\n",
    "        return WallBombed()\n",
    "    \n",
    "    def makeRoom(self, roomNumber):\n",
    "        return RoomWithABomb(roomNumber)"
   ]
  },
  {
   "cell_type": "code",
   "execution_count": 13,
   "metadata": {},
   "outputs": [],
   "source": [
    "bombedFactory = MazeBombedFactory()"
   ]
  },
  {
   "cell_type": "code",
   "execution_count": 14,
   "metadata": {},
   "outputs": [
    {
     "data": {
      "text/plain": [
       "<__main__.MazeBombedFactory at 0x108f0d150>"
      ]
     },
     "execution_count": 14,
     "metadata": {},
     "output_type": "execute_result"
    }
   ],
   "source": [
    "bombedFactory"
   ]
  },
  {
   "cell_type": "code",
   "execution_count": 15,
   "metadata": {},
   "outputs": [],
   "source": [
    "TwoRoomedMazeWithBombs = GameWithDesignPattern.createTwoRoomedMaze(bombedFactory)"
   ]
  },
  {
   "cell_type": "code",
   "execution_count": null,
   "metadata": {},
   "outputs": [],
   "source": []
  },
  {
   "cell_type": "code",
   "execution_count": null,
   "metadata": {},
   "outputs": [],
   "source": []
  }
 ],
 "metadata": {
  "kernelspec": {
   "display_name": "Python 3",
   "language": "python",
   "name": "python3"
  },
  "language_info": {
   "codemirror_mode": {
    "name": "ipython",
    "version": 3
   },
   "file_extension": ".py",
   "mimetype": "text/x-python",
   "name": "python",
   "nbconvert_exporter": "python",
   "pygments_lexer": "ipython3",
   "version": "3.7.4"
  }
 },
 "nbformat": 4,
 "nbformat_minor": 2
}
